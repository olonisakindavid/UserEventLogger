{
 "cells": [
  {
   "cell_type": "code",
   "execution_count": 4,
   "metadata": {},
   "outputs": [],
   "source": [
    "class Event:\n",
    "    def __init__(self, event_date, event_type, machine_name, user):\n",
    "        self.date = event_date\n",
    "        self.type = event_type\n",
    "        self.machine = machine_name\n",
    "        self.user = user"
   ]
  },
  {
   "cell_type": "code",
   "execution_count": 5,
   "metadata": {},
   "outputs": [],
   "source": [
    "events = [\n",
    "    Event('2020-01-21 12:45:46', 'login', 'myworkstation.local', 'jordan'),\n",
    "    Event('2020-01-22 15:53:42', 'logout', 'webserver.local', 'jordan'),\n",
    "    Event('2020-01-21 18:53:21', 'login', 'webserver.local', 'lane'),\n",
    "    Event('2020-01-22 10:25:34', 'logout', 'myworkstation.local', 'jordan'),\n",
    "    Event('2020-01-21 08:20:01', 'login', 'webserver.local', 'jordan'),\n",
    "    Event('2020-01-23 11:24:35', 'login', 'mailserver.local', 'chris'),\n",
    "]"
   ]
  },
  {
   "cell_type": "code",
   "execution_count": 8,
   "metadata": {},
   "outputs": [
    {
     "name": "stdout",
     "output_type": "stream",
     "text": [
      "{'webserver.local': {'lane'}, 'myworkstation.local': set(), 'mailserver.local': {'chris'}}\n"
     ]
    }
   ],
   "source": [
    "users = current_users(events)\n",
    "print(users)"
   ]
  },
  {
   "cell_type": "code",
   "execution_count": 9,
   "metadata": {},
   "outputs": [
    {
     "name": "stdout",
     "output_type": "stream",
     "text": [
      "webserver.local: lane\n",
      "mailserver.local: chris\n"
     ]
    }
   ],
   "source": [
    "generate_report(users)"
   ]
  }
 ],
 "metadata": {
  "kernelspec": {
   "display_name": "Python 3",
   "language": "python",
   "name": "python3"
  },
  "language_info": {
   "codemirror_mode": {
    "name": "ipython",
    "version": 3
   },
   "file_extension": ".py",
   "mimetype": "text/x-python",
   "name": "python",
   "nbconvert_exporter": "python",
   "pygments_lexer": "ipython3",
   "version": "3.10.5"
  }
 },
 "nbformat": 4,
 "nbformat_minor": 2
}
